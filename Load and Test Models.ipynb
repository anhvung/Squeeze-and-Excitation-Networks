{
 "cells": [
  {
   "cell_type": "code",
   "execution_count": 11,
   "id": "8dbe65f3",
   "metadata": {},
   "outputs": [
    {
     "name": "stdout",
     "output_type": "stream",
     "text": [
      "The autoreload extension is already loaded. To reload it, use:\n",
      "  %reload_ext autoreload\n"
     ]
    }
   ],
   "source": [
    "%matplotlib inline\n",
    "%load_ext autoreload\n",
    "%autoreload 2\n",
    "from utils.evaluate_model import score\n",
    "from utils.SE_resnet import SE_resnet18,SE_resnet34,SE_resnet50\n",
    "from utils.custom_resnet import custom_resnet18,custom_resnet34,custom_resnet50 \n",
    "import numpy as np\n",
    "import os\n",
    "from tensorflow.keras.models import load_model\n",
    "from utils.tiny_imageNet import labels_order\n",
    "from PIL import Image\n",
    "import pandas as pd\n",
    "import tensorflow as tf\n",
    "from tensorflow.keras.utils import to_categorical  "
   ]
  },
  {
   "cell_type": "markdown",
   "id": "c3c54717",
   "metadata": {},
   "source": [
    "# Tiny ImageNet "
   ]
  },
  {
   "cell_type": "markdown",
   "id": "c7a15e1d",
   "metadata": {},
   "source": [
    "### Testing data"
   ]
  },
  {
   "cell_type": "code",
   "execution_count": 2,
   "id": "65d5f925",
   "metadata": {},
   "outputs": [],
   "source": [
    "#Generate dataset\n",
    "image_list=[]\n",
    "label_list=[]\n",
    "label_dic=labels_order() #convert label str to int from 0 \n",
    "\n",
    "###### TEST DATA #######\n",
    "\n",
    "#getting the labels from the txt file\n",
    "df = pd.read_table('./data/tiny-imagenet-200/val/val_annotations.txt', header=None)\n",
    "test_labels={} \n",
    "for index, row in df.iterrows():\n",
    "    test_labels[str(row[0])]= row[1]\n",
    "test_directory = \"./data/tiny-imagenet-200/val/images\" \n",
    "\n",
    "test_image_list=[]\n",
    "test_label_list=[]\n",
    "\n",
    "for file in os.listdir(test_directory):\n",
    "    filename = os.fsdecode(file)  \n",
    "    if filename.endswith(\".JPEG\")  or filename.endswith(\".jpg\") or filename.endswith(\".png\"):\n",
    "        img=np.array(Image.open(os.path.join(test_directory,file)))\n",
    "        if(img.shape == (64, 64, 3)): #removing images without 3 channels\n",
    "            test_image_list.append(img)\n",
    "            test_label_list.append(label_dic[test_labels[filename]])\n",
    "            \n",
    "X_test=np.array(test_image_list)\n",
    "y_test=tf.keras.utils.to_categorical(np.array(test_label_list))"
   ]
  },
  {
   "cell_type": "markdown",
   "id": "f08b85f5",
   "metadata": {},
   "source": [
    "### Resnet 18 "
   ]
  },
  {
   "cell_type": "code",
   "execution_count": 3,
   "id": "3096d81d",
   "metadata": {},
   "outputs": [
    {
     "name": "stdout",
     "output_type": "stream",
     "text": [
      "308/308 - 13s - loss: 7.4471 - acc: 0.2831\n",
      "custom_resnet18\n",
      "model accuracy: 28.31%\n",
      "top 3 accuracy: 43.76525580883026\n",
      "top 5 accuracy: 51.8002450466156\n"
     ]
    }
   ],
   "source": [
    "model = tf.keras.models.load_model('./full_models/tinyImageNet/resnet_18_best.h5')\n",
    "score(model,X_test,y_test,top_n=[3,5])"
   ]
  },
  {
   "cell_type": "markdown",
   "id": "2f2f8f06",
   "metadata": {},
   "source": [
    "### SE-Resnet18"
   ]
  },
  {
   "cell_type": "code",
   "execution_count": 4,
   "id": "57fb699c",
   "metadata": {},
   "outputs": [
    {
     "name": "stdout",
     "output_type": "stream",
     "text": [
      "WARNING:tensorflow:No training configuration found in the save file, so the model was *not* compiled. Compile it manually.\n",
      "308/308 - 14s - loss: 7.0945 - acc: 0.3209\n",
      "SE_ResNet18\n",
      "model accuracy: 32.09%\n",
      "top 3 accuracy: 48.02685081958771\n",
      "top 5 accuracy: 55.90927600860596\n"
     ]
    }
   ],
   "source": [
    "model = tf.keras.models.load_model('./full_models/tinyImageNet/SE-resnet_18_best.h5')\n",
    "score(model,X_test,y_test,top_n=[3,5])"
   ]
  },
  {
   "cell_type": "markdown",
   "id": "538c0873",
   "metadata": {},
   "source": [
    "### Resnet18 + data augmentation"
   ]
  },
  {
   "cell_type": "code",
   "execution_count": 5,
   "id": "8558c83d",
   "metadata": {},
   "outputs": [
    {
     "name": "stdout",
     "output_type": "stream",
     "text": [
      "WARNING:tensorflow:No training configuration found in the save file, so the model was *not* compiled. Compile it manually.\n",
      "308/308 - 13s - loss: 2.5850 - acc: 0.4207\n",
      "custom_resnet18\n",
      "model accuracy: 42.07%\n",
      "top 3 accuracy: 60.73026657104492\n",
      "top 5 accuracy: 68.65337491035461\n"
     ]
    }
   ],
   "source": [
    "model = tf.keras.models.load_model('./full_models/tinyImageNet/resnet_18_aug_best.h5')\n",
    "score(model,X_test,y_test,top_n=[3,5])"
   ]
  },
  {
   "cell_type": "markdown",
   "id": "2862e56e",
   "metadata": {},
   "source": [
    "### SE-Resnet18 + data augmentation"
   ]
  },
  {
   "cell_type": "code",
   "execution_count": 3,
   "id": "91a65e20",
   "metadata": {},
   "outputs": [
    {
     "name": "stdout",
     "output_type": "stream",
     "text": [
      "WARNING:tensorflow:No training configuration found in the save file, so the model was *not* compiled. Compile it manually.\n",
      "308/308 - 41s - loss: 2.7612 - acc: 0.4281\n",
      "SE_ResNet18\n",
      "model accuracy: 42.81%\n",
      "top 3 accuracy: 60.12001633644104\n",
      "top 5 accuracy: 67.48372912406921\n"
     ]
    }
   ],
   "source": [
    "model = tf.keras.models.load_model('./full_models/tinyImageNet/SE-resnet_18_aug_best.h5')\n",
    "score(model,X_test,y_test,top_n=[3,5])"
   ]
  },
  {
   "cell_type": "markdown",
   "id": "daa3b9a7",
   "metadata": {},
   "source": [
    "### Resnet34"
   ]
  },
  {
   "cell_type": "code",
   "execution_count": 7,
   "id": "85d61e10",
   "metadata": {},
   "outputs": [
    {
     "name": "stdout",
     "output_type": "stream",
     "text": [
      "308/308 - 25s - loss: 3.2606 - acc: 0.2855\n",
      "custom_resnet34\n",
      "model accuracy: 28.55%\n",
      "top 3 accuracy: 45.55532932281494\n",
      "top 5 accuracy: 55.09560704231262\n"
     ]
    }
   ],
   "source": [
    "model = tf.keras.models.load_model('./full_models/tinyImageNet/resnet_34_best.h5')\n",
    "score(model,X_test,y_test,top_n=[3,5])"
   ]
  },
  {
   "cell_type": "markdown",
   "id": "cd56bd58",
   "metadata": {},
   "source": [
    "### SE-Resnet34 "
   ]
  },
  {
   "cell_type": "code",
   "execution_count": 8,
   "id": "8ff53b28",
   "metadata": {},
   "outputs": [
    {
     "name": "stdout",
     "output_type": "stream",
     "text": [
      "WARNING:tensorflow:No training configuration found in the save file, so the model was *not* compiled. Compile it manually.\n",
      "308/308 - 25s - loss: 6.8804 - acc: 0.3112\n",
      "SE_ResNet34\n",
      "model accuracy: 31.12%\n",
      "top 3 accuracy: 48.01667928695679\n",
      "top 5 accuracy: 55.96013069152832\n"
     ]
    }
   ],
   "source": [
    "model = tf.keras.models.load_model('./full_models/tinyImageNet/SE-resnet_34_best.h5')\n",
    "score(model,X_test,y_test,top_n=[3,5])"
   ]
  },
  {
   "cell_type": "markdown",
   "id": "0b8abbc9",
   "metadata": {},
   "source": [
    "### Resnet34 + data augmentation"
   ]
  },
  {
   "cell_type": "code",
   "execution_count": 9,
   "id": "7c0070ba",
   "metadata": {},
   "outputs": [
    {
     "name": "stdout",
     "output_type": "stream",
     "text": [
      "WARNING:tensorflow:No training configuration found in the save file, so the model was *not* compiled. Compile it manually.\n",
      "308/308 - 24s - loss: 3.0376 - acc: 0.3834\n",
      "custom_resnet34\n",
      "model accuracy: 38.34%\n",
      "top 3 accuracy: 55.736368894577026\n",
      "top 5 accuracy: 63.84255290031433\n"
     ]
    }
   ],
   "source": [
    "model = tf.keras.models.load_model('./full_models/tinyImageNet/resnet_34_aug_best.h5')\n",
    "score(model,X_test,y_test,top_n=[3,5])"
   ]
  },
  {
   "cell_type": "markdown",
   "id": "eafe4f45",
   "metadata": {},
   "source": [
    "### SE-Resnet34 + data augmentation"
   ]
  },
  {
   "cell_type": "code",
   "execution_count": 10,
   "id": "50ba6715",
   "metadata": {},
   "outputs": [
    {
     "name": "stdout",
     "output_type": "stream",
     "text": [
      "WARNING:tensorflow:No training configuration found in the save file, so the model was *not* compiled. Compile it manually.\n",
      "308/308 - 24s - loss: 2.5866 - acc: 0.4138\n",
      "SE_ResNet34\n",
      "model accuracy: 41.38%\n",
      "top 3 accuracy: 59.06224846839905\n",
      "top 5 accuracy: 67.28031039237976\n"
     ]
    }
   ],
   "source": [
    "model = tf.keras.models.load_model('./full_models/tinyImageNet/SE-resnet_34_aug_best.h5')\n",
    "score(model,X_test,y_test,top_n=[3,5])"
   ]
  },
  {
   "cell_type": "markdown",
   "id": "ef460dec",
   "metadata": {},
   "source": [
    "### Resnet50 "
   ]
  },
  {
   "cell_type": "code",
   "execution_count": 11,
   "id": "3470e2a3",
   "metadata": {},
   "outputs": [
    {
     "name": "stdout",
     "output_type": "stream",
     "text": [
      "WARNING:tensorflow:No training configuration found in the save file, so the model was *not* compiled. Compile it manually.\n",
      "308/308 - 34s - loss: 3.5586 - acc: 0.2381\n",
      "custom_resnet50\n",
      "model accuracy: 23.81%\n",
      "top 3 accuracy: 39.971521496772766\n",
      "top 5 accuracy: 48.91171753406525\n"
     ]
    }
   ],
   "source": [
    "model = tf.keras.models.load_model('./full_models/tinyImageNet/resnet_50_best.h5')\n",
    "score(model,X_test,y_test,top_n=[3,5])"
   ]
  },
  {
   "cell_type": "markdown",
   "id": "e9c63a05",
   "metadata": {},
   "source": [
    "### SE-Resnet50 "
   ]
  },
  {
   "cell_type": "code",
   "execution_count": 15,
   "id": "6cb4c86c",
   "metadata": {},
   "outputs": [
    {
     "name": "stdout",
     "output_type": "stream",
     "text": [
      "WARNING:tensorflow:No training configuration found in the save file, so the model was *not* compiled. Compile it manually.\n",
      "308/308 - 41s - loss: 4.2771 - acc: 0.2819\n",
      "SE_custom_resnet50\n",
      "model accuracy: 28.19%\n",
      "top 3 accuracy: 44.48738694190979\n",
      "top 5 accuracy: 52.28844881057739\n"
     ]
    }
   ],
   "source": [
    "model = tf.keras.models.load_model('./full_models/tinyImageNet/SE-resnet_50_best.h5')\n",
    "score(model,X_test,y_test,top_n=[3,5])"
   ]
  },
  {
   "cell_type": "markdown",
   "id": "153fc875",
   "metadata": {},
   "source": [
    "### Resnet50 + data augmentation"
   ]
  },
  {
   "cell_type": "code",
   "execution_count": 13,
   "id": "4d6795fd",
   "metadata": {},
   "outputs": [
    {
     "name": "stdout",
     "output_type": "stream",
     "text": [
      "WARNING:tensorflow:No training configuration found in the save file, so the model was *not* compiled. Compile it manually.\n",
      "308/308 - 33s - loss: 3.2277 - acc: 0.2980\n",
      "custom_resnet50\n",
      "model accuracy: 29.80%\n",
      "top 3 accuracy: 47.19283878803253\n",
      "top 5 accuracy: 55.970299243927\n"
     ]
    }
   ],
   "source": [
    "model = tf.keras.models.load_model('./full_models/tinyImageNet/resnet_50_aug_best.h5')\n",
    "score(model,X_test,y_test,top_n=[3,5])"
   ]
  },
  {
   "cell_type": "markdown",
   "id": "e3835d17",
   "metadata": {},
   "source": [
    "### SE-Resnet50 + data augmentation"
   ]
  },
  {
   "cell_type": "code",
   "execution_count": 14,
   "id": "d86d1ad2",
   "metadata": {},
   "outputs": [
    {
     "name": "stdout",
     "output_type": "stream",
     "text": [
      "WARNING:tensorflow:No training configuration found in the save file, so the model was *not* compiled. Compile it manually.\n",
      "308/308 - 36s - loss: 2.9517 - acc: 0.3592\n",
      "SE_custom_resnet50\n",
      "model accuracy: 35.92%\n",
      "top 3 accuracy: 53.97680997848511\n",
      "top 5 accuracy: 61.47274374961853\n"
     ]
    }
   ],
   "source": [
    "model = tf.keras.models.load_model('./full_models/tinyImageNet/SE-resnet_50_aug_best.h5')\n",
    "score(model,X_test,y_test,top_n=[3,5])"
   ]
  },
  {
   "cell_type": "markdown",
   "id": "1adf5950",
   "metadata": {},
   "source": [
    "# Cifar 10"
   ]
  },
  {
   "cell_type": "markdown",
   "id": "51032938",
   "metadata": {},
   "source": [
    "### data"
   ]
  },
  {
   "cell_type": "code",
   "execution_count": 12,
   "id": "8e1d99ad",
   "metadata": {},
   "outputs": [],
   "source": [
    "(_, __), (X_test, y_test) = tf.keras.datasets.cifar10.load_data()\n",
    "y_test=to_categorical(y_test, num_classes=10)"
   ]
  },
  {
   "cell_type": "markdown",
   "id": "9c2b30ed",
   "metadata": {},
   "source": [
    "### Custom Resnet"
   ]
  },
  {
   "cell_type": "code",
   "execution_count": 19,
   "id": "60f8e68d",
   "metadata": {},
   "outputs": [
    {
     "name": "stdout",
     "output_type": "stream",
     "text": [
      "WARNING:tensorflow:No training configuration found in the save file, so the model was *not* compiled. Compile it manually.\n",
      "313/313 - 12s - loss: 0.7722 - acc: 0.8070\n",
      "custom_resnet\n",
      "model accuracy: 80.70%\n",
      "top 3 accuracy: 95.85999846458435\n",
      "top 5 accuracy: 98.7500011920929\n"
     ]
    }
   ],
   "source": [
    "model = tf.keras.models.load_model('./full_models/cifar10/resnet_best.h5')\n",
    "score(model,X_test,y_test,top_n=[3,5])"
   ]
  },
  {
   "cell_type": "markdown",
   "id": "d78958e6",
   "metadata": {},
   "source": [
    "### Custom SE-Resnet"
   ]
  },
  {
   "cell_type": "code",
   "execution_count": 20,
   "id": "5fa39790",
   "metadata": {},
   "outputs": [
    {
     "name": "stdout",
     "output_type": "stream",
     "text": [
      "WARNING:tensorflow:No training configuration found in the save file, so the model was *not* compiled. Compile it manually.\n",
      "313/313 - 14s - loss: 0.5569 - acc: 0.8261\n",
      "SE_custom_resnet46\n",
      "model accuracy: 82.61%\n",
      "top 3 accuracy: 96.66000008583069\n",
      "top 5 accuracy: 98.989999294281\n"
     ]
    }
   ],
   "source": [
    "model = tf.keras.models.load_model('./full_models/cifar10/SE_resnet_best.h5')\n",
    "score(model,X_test,y_test,top_n=[3,5])"
   ]
  },
  {
   "cell_type": "markdown",
   "id": "510af51f",
   "metadata": {},
   "source": [
    "### ResNeXt-29"
   ]
  },
  {
   "cell_type": "code",
   "execution_count": 4,
   "id": "a9dbb0a4",
   "metadata": {},
   "outputs": [
    {
     "name": "stdout",
     "output_type": "stream",
     "text": [
      "313/313 - 41s - loss: 0.7287 - acc: 0.8287\n",
      "custom_ResNext29_8x64d\n",
      "model accuracy: 82.87%\n",
      "top 3 accuracy: 96.52000069618225\n",
      "top 5 accuracy: 99.08999800682068\n"
     ]
    }
   ],
   "source": [
    "model = tf.keras.models.load_model('./full_models/cifar10/ResNext29_best_cifar10.hdf5')\n",
    "score(model,X_test,y_test,top_n=[3,5])"
   ]
  },
  {
   "cell_type": "markdown",
   "id": "25796e34",
   "metadata": {},
   "source": [
    "### SE-ResNeXt-29"
   ]
  },
  {
   "cell_type": "code",
   "execution_count": 5,
   "id": "9ce5546d",
   "metadata": {},
   "outputs": [
    {
     "name": "stdout",
     "output_type": "stream",
     "text": [
      "313/313 - 42s - loss: 0.6006 - acc: 0.8309\n",
      "SE_custom_ResNext29_8x64d\n",
      "model accuracy: 83.09%\n",
      "top 3 accuracy: 96.60000205039978\n",
      "top 5 accuracy: 99.14000034332275\n"
     ]
    }
   ],
   "source": [
    "model = tf.keras.models.load_model('./full_models/cifar10/SE_ResNext29_best_cifar10.hdf5')\n",
    "score(model,X_test,y_test,top_n=[3,5])"
   ]
  },
  {
   "cell_type": "markdown",
   "id": "e08345b5",
   "metadata": {},
   "source": [
    "### InceptionV3"
   ]
  },
  {
   "cell_type": "code",
   "execution_count": null,
   "id": "1368f9aa",
   "metadata": {},
   "outputs": [],
   "source": [
    "from utils.SE_inception_v3 import inception_v3_custom\n",
    "\n",
    "se_network=False # use or not an SE network\n",
    "aux_classifier=True # use or not an auxiliary classifier; it is an intermediatary classifier in the model that is supposed to help reduce overfitting\n",
    "data_base='cifar-10' # the database that we'll use\n",
    "ratio = 16 # the r ratio of our SE network; authors recommand 16\n",
    "inception_v3_cifar10 = inception_v3_custom(aux_classifier=aux_classifier, se_network=se_network, data_base= data_base, ratio = ratio)\n",
    "inception_v3_model_cifar10 = inception_v3_cifar10.Model(name = 'Inception')\n",
    "inception_v3_model_cifar10.load_weights('./full_models/cifar10/inception weights/inception_v3_custom_cifar10.ckpt')\n",
    "score(inception_v3_model_cifar10,X_test,y_test,top_n=[3,5])"
   ]
  },
  {
   "cell_type": "markdown",
   "id": "b771bd2b",
   "metadata": {},
   "source": [
    "### SE-InceptionV3"
   ]
  },
  {
   "cell_type": "code",
   "execution_count": null,
   "id": "365d75f6",
   "metadata": {},
   "outputs": [],
   "source": [
    "se_network=True # use or not an SE network\n",
    "aux_classifier=True # use or not an auxiliary classifier; it is an intermediatary classifier in the model that is supposed to help reduce overfitting\n",
    "data_base='cifar-10' # the database that we'll use\n",
    "ratio = 16 # the r ratio of our SE network; authors recommand 16\n",
    "\n",
    "se_inception_v3_cifar10 = inception_v3_custom(aux_classifier=aux_classifier, se_network=se_network, data_base= data_base, ratio = ratio)\n",
    "se_inception_v3_model_cifar10 = se_inception_v3_cifar10.Model(name = 'se_inception_v3_model_cifar10')\n",
    "se_inception_v3_model_cifar10.load_weights('./full_models/cifar10/SE-inception weights/se_inception_v3_custom_cifar10.ckpt')\n",
    "score(se_inception_v3_model_cifar10,X_test,y_test,top_n=[3,5])"
   ]
  },
  {
   "cell_type": "markdown",
   "id": "8af81ba3",
   "metadata": {},
   "source": [
    "# Cifar 100"
   ]
  },
  {
   "cell_type": "markdown",
   "id": "b561dbe3",
   "metadata": {},
   "source": [
    "### data"
   ]
  },
  {
   "cell_type": "code",
   "execution_count": 7,
   "id": "5c20b81b",
   "metadata": {},
   "outputs": [],
   "source": [
    "(_, __), (X_test, y_test) = tf.keras.datasets.cifar100.load_data()\n",
    "y_test=to_categorical(y_test, num_classes=100)"
   ]
  },
  {
   "cell_type": "markdown",
   "id": "031b36f9",
   "metadata": {},
   "source": [
    "### Custom Resnet"
   ]
  },
  {
   "cell_type": "code",
   "execution_count": 22,
   "id": "eadd4447",
   "metadata": {},
   "outputs": [
    {
     "name": "stdout",
     "output_type": "stream",
     "text": [
      "WARNING:tensorflow:No training configuration found in the save file, so the model was *not* compiled. Compile it manually.\n",
      "313/313 - 12s - loss: 2.7823 - acc: 0.4999\n",
      "custom_resnet\n",
      "model accuracy: 49.99%\n",
      "top 3 accuracy: 69.1100001335144\n",
      "top 5 accuracy: 76.81999802589417\n"
     ]
    }
   ],
   "source": [
    "model = tf.keras.models.load_model('./full_models/cifar100/resnet_best.h5')\n",
    "score(model,X_test,y_test,top_n=[3,5])"
   ]
  },
  {
   "cell_type": "markdown",
   "id": "f44e555c",
   "metadata": {},
   "source": [
    "### Custom SE-Resnet"
   ]
  },
  {
   "cell_type": "code",
   "execution_count": 23,
   "id": "84c3e973",
   "metadata": {},
   "outputs": [
    {
     "name": "stdout",
     "output_type": "stream",
     "text": [
      "WARNING:tensorflow:No training configuration found in the save file, so the model was *not* compiled. Compile it manually.\n",
      "313/313 - 14s - loss: 2.6477 - acc: 0.5417\n",
      "SE_custom_resnet46\n",
      "model accuracy: 54.17%\n",
      "top 3 accuracy: 72.0300018787384\n",
      "top 5 accuracy: 79.1599988937378\n"
     ]
    }
   ],
   "source": [
    "model = tf.keras.models.load_model('./full_models/cifar100/SE_resnet_best.h5')\n",
    "score(model,X_test,y_test,top_n=[3,5])"
   ]
  },
  {
   "cell_type": "markdown",
   "id": "8269fd0a",
   "metadata": {},
   "source": [
    "### ResNeXt-29"
   ]
  },
  {
   "cell_type": "code",
   "execution_count": 8,
   "id": "b53a3f5b",
   "metadata": {},
   "outputs": [
    {
     "name": "stdout",
     "output_type": "stream",
     "text": [
      "313/313 - 43s - loss: 2.1037 - acc: 0.5463\n",
      "custom_ResNext29_8x64d\n",
      "model accuracy: 54.63%\n",
      "top 3 accuracy: 74.02999997138977\n",
      "top 5 accuracy: 80.9499979019165\n"
     ]
    }
   ],
   "source": [
    "model = tf.keras.models.load_model('./full_models/cifar100/ResNext29_best_cifar100.hdf5')\n",
    "score(model,X_test,y_test,top_n=[3,5])"
   ]
  },
  {
   "cell_type": "markdown",
   "id": "e77e7551",
   "metadata": {},
   "source": [
    "### SE- ResNeXt-29"
   ]
  },
  {
   "cell_type": "code",
   "execution_count": 10,
   "id": "7801c63b",
   "metadata": {},
   "outputs": [
    {
     "name": "stdout",
     "output_type": "stream",
     "text": [
      "313/313 - 45s - loss: 2.1584 - acc: 0.5528\n",
      "SE_custom_ResNext29_8x64d\n",
      "model accuracy: 55.28%\n",
      "top 3 accuracy: 73.86000156402588\n",
      "top 5 accuracy: 81.16000294685364\n"
     ]
    }
   ],
   "source": [
    "model = tf.keras.models.load_model('./full_models/cifar100/SE_ResNext29_best_cifar100.hdf5')\n",
    "score(model,X_test,y_test,top_n=[3,5])"
   ]
  },
  {
   "cell_type": "markdown",
   "id": "88481fb6",
   "metadata": {},
   "source": [
    "# Ratio Test"
   ]
  },
  {
   "cell_type": "markdown",
   "id": "4075e297",
   "metadata": {},
   "source": [
    "### data"
   ]
  },
  {
   "cell_type": "code",
   "execution_count": 2,
   "id": "e41718ec",
   "metadata": {},
   "outputs": [],
   "source": [
    "(_, __), (X_test, y_test) = tf.keras.datasets.cifar10.load_data()\n",
    "y_test=to_categorical(y_test, num_classes=10)"
   ]
  },
  {
   "cell_type": "markdown",
   "id": "332b399a",
   "metadata": {},
   "source": [
    "### r=1"
   ]
  },
  {
   "cell_type": "code",
   "execution_count": 4,
   "id": "0ecc4ae8",
   "metadata": {},
   "outputs": [
    {
     "name": "stdout",
     "output_type": "stream",
     "text": [
      "WARNING:tensorflow:No training configuration found in the save file, so the model was *not* compiled. Compile it manually.\n",
      "313/313 - 7s - loss: 0.6135 - acc: 0.8248\n",
      "SE_custom_resnet46_ratio1\n",
      "model accuracy: 82.48%\n",
      "top 3 accuracy: 96.13999724388123\n",
      "top 5 accuracy: 99.11999702453613\n"
     ]
    }
   ],
   "source": [
    "model = tf.keras.models.load_model('./full_models/ratio/se_resnet_ratio_1.h5')\n",
    "score(model,X_test,y_test,top_n=[3,5])"
   ]
  },
  {
   "cell_type": "markdown",
   "id": "b41ebfac",
   "metadata": {},
   "source": [
    "### r=2"
   ]
  },
  {
   "cell_type": "code",
   "execution_count": 5,
   "id": "a321c3ce",
   "metadata": {},
   "outputs": [
    {
     "name": "stdout",
     "output_type": "stream",
     "text": [
      "WARNING:tensorflow:No training configuration found in the save file, so the model was *not* compiled. Compile it manually.\n",
      "313/313 - 5s - loss: 0.5784 - acc: 0.8267\n",
      "SE_custom_resnet46_ratio1\n",
      "model accuracy: 82.67%\n",
      "top 3 accuracy: 96.46000266075134\n",
      "top 5 accuracy: 99.09999966621399\n"
     ]
    }
   ],
   "source": [
    "model = tf.keras.models.load_model('./full_models/ratio/se_resnet_ratio_2.h5')\n",
    "score(model,X_test,y_test,top_n=[3,5])"
   ]
  },
  {
   "cell_type": "markdown",
   "id": "69fa2a01",
   "metadata": {},
   "source": [
    "### r=4"
   ]
  },
  {
   "cell_type": "code",
   "execution_count": 6,
   "id": "8cfb9579",
   "metadata": {},
   "outputs": [
    {
     "name": "stdout",
     "output_type": "stream",
     "text": [
      "WARNING:tensorflow:No training configuration found in the save file, so the model was *not* compiled. Compile it manually.\n",
      "313/313 - 5s - loss: 0.6385 - acc: 0.8157\n",
      "SE_custom_resnet46_ratio1\n",
      "model accuracy: 81.57%\n",
      "top 3 accuracy: 96.10000252723694\n",
      "top 5 accuracy: 98.7500011920929\n"
     ]
    }
   ],
   "source": [
    "model = tf.keras.models.load_model('./full_models/ratio/se_resnet_ratio_4.h5')\n",
    "score(model,X_test,y_test,top_n=[3,5])"
   ]
  },
  {
   "cell_type": "markdown",
   "id": "bf80ecc1",
   "metadata": {},
   "source": [
    "### r=8"
   ]
  },
  {
   "cell_type": "code",
   "execution_count": 7,
   "id": "acd37a7e",
   "metadata": {},
   "outputs": [
    {
     "name": "stdout",
     "output_type": "stream",
     "text": [
      "WARNING:tensorflow:No training configuration found in the save file, so the model was *not* compiled. Compile it manually.\n",
      "313/313 - 5s - loss: 0.6322 - acc: 0.8232\n",
      "SE_custom_resnet46_ratio1\n",
      "model accuracy: 82.32%\n",
      "top 3 accuracy: 96.16000056266785\n",
      "top 5 accuracy: 98.96000027656555\n"
     ]
    }
   ],
   "source": [
    "model = tf.keras.models.load_model('./full_models/ratio/se_resnet_ratio_8.h5')\n",
    "score(model,X_test,y_test,top_n=[3,5])"
   ]
  },
  {
   "cell_type": "markdown",
   "id": "a4f63c2b",
   "metadata": {},
   "source": [
    "### r=16"
   ]
  },
  {
   "cell_type": "code",
   "execution_count": 10,
   "id": "eb01bc4a",
   "metadata": {},
   "outputs": [
    {
     "name": "stdout",
     "output_type": "stream",
     "text": [
      "WARNING:tensorflow:No training configuration found in the save file, so the model was *not* compiled. Compile it manually.\n",
      "313/313 - 5s - loss: 0.5569 - acc: 0.8261\n",
      "SE_custom_resnet46\n",
      "model accuracy: 82.61%\n",
      "top 3 accuracy: 96.66000008583069\n",
      "top 5 accuracy: 98.989999294281\n"
     ]
    }
   ],
   "source": [
    "model = tf.keras.models.load_model('./full_models/cifar10/SE_resnet_best.h5')\n",
    "score(model,X_test,y_test,top_n=[3,5])"
   ]
  },
  {
   "cell_type": "markdown",
   "id": "b72971d2",
   "metadata": {},
   "source": [
    "### r=32"
   ]
  },
  {
   "cell_type": "code",
   "execution_count": 8,
   "id": "d8524d0c",
   "metadata": {},
   "outputs": [
    {
     "name": "stdout",
     "output_type": "stream",
     "text": [
      "WARNING:tensorflow:No training configuration found in the save file, so the model was *not* compiled. Compile it manually.\n",
      "313/313 - 5s - loss: 0.6388 - acc: 0.8206\n",
      "SE_custom_resnet46_ratio1\n",
      "model accuracy: 82.06%\n",
      "top 3 accuracy: 96.32999897003174\n",
      "top 5 accuracy: 98.94999861717224\n"
     ]
    }
   ],
   "source": [
    "model = tf.keras.models.load_model('./full_models/ratio/se_resnet_ratio_32.h5')\n",
    "score(model,X_test,y_test,top_n=[3,5])"
   ]
  },
  {
   "cell_type": "markdown",
   "id": "8992aafd",
   "metadata": {},
   "source": [
    "# Stages test"
   ]
  },
  {
   "cell_type": "markdown",
   "id": "837585bf",
   "metadata": {},
   "source": [
    "### data"
   ]
  },
  {
   "cell_type": "code",
   "execution_count": null,
   "id": "3d90f5b7",
   "metadata": {},
   "outputs": [],
   "source": [
    "(_, __), (X_test, y_test) = tf.keras.datasets.cifar10.load_data()\n",
    "y_test=to_categorical(y_test, num_classes=10)"
   ]
  },
  {
   "cell_type": "markdown",
   "id": "90e61f03",
   "metadata": {},
   "source": [
    "### Stage 2"
   ]
  },
  {
   "cell_type": "code",
   "execution_count": 4,
   "id": "2cf31a52",
   "metadata": {},
   "outputs": [
    {
     "name": "stdout",
     "output_type": "stream",
     "text": [
      "WARNING:tensorflow:No training configuration found in the save file, so the model was *not* compiled. Compile it manually.\n",
      "313/313 - 7s - loss: 0.7758 - acc: 0.8135\n",
      "SE_custom_resnet\n",
      "model accuracy: 81.35%\n",
      "top 3 accuracy: 95.77000141143799\n",
      "top 5 accuracy: 98.64000082015991\n"
     ]
    }
   ],
   "source": [
    "model = tf.keras.models.load_model('./full_models/stage/stage2.h5')\n",
    "score(model,X_test,y_test,top_n=[3,5])"
   ]
  },
  {
   "cell_type": "markdown",
   "id": "6b0a9f21",
   "metadata": {},
   "source": [
    "### Stage 3"
   ]
  },
  {
   "cell_type": "code",
   "execution_count": 5,
   "id": "72d6e078",
   "metadata": {},
   "outputs": [
    {
     "name": "stdout",
     "output_type": "stream",
     "text": [
      "WARNING:tensorflow:No training configuration found in the save file, so the model was *not* compiled. Compile it manually.\n",
      "313/313 - 4s - loss: 0.6955 - acc: 0.8026\n",
      "SE_custom_resnet\n",
      "model accuracy: 80.26%\n",
      "top 3 accuracy: 95.5299973487854\n",
      "top 5 accuracy: 98.83000254631042\n"
     ]
    }
   ],
   "source": [
    "model = tf.keras.models.load_model('./full_models/stage/stage3.h5')\n",
    "score(model,X_test,y_test,top_n=[3,5])"
   ]
  },
  {
   "cell_type": "markdown",
   "id": "7cbdd144",
   "metadata": {},
   "source": [
    "### Stage 4"
   ]
  },
  {
   "cell_type": "code",
   "execution_count": 6,
   "id": "82e2c837",
   "metadata": {},
   "outputs": [
    {
     "name": "stdout",
     "output_type": "stream",
     "text": [
      "WARNING:tensorflow:No training configuration found in the save file, so the model was *not* compiled. Compile it manually.\n",
      "313/313 - 4s - loss: 0.5710 - acc: 0.8330\n",
      "SE_custom_resnet\n",
      "model accuracy: 83.30%\n",
      "top 3 accuracy: 96.59000039100647\n",
      "top 5 accuracy: 98.90999794006348\n"
     ]
    }
   ],
   "source": [
    "model = tf.keras.models.load_model('./full_models/stage/stage4.h5')\n",
    "score(model,X_test,y_test,top_n=[3,5])"
   ]
  },
  {
   "cell_type": "markdown",
   "id": "c66b2d4e",
   "metadata": {},
   "source": [
    "# Ablation tests"
   ]
  },
  {
   "cell_type": "markdown",
   "id": "74c48355",
   "metadata": {},
   "source": [
    "### data"
   ]
  },
  {
   "cell_type": "code",
   "execution_count": null,
   "id": "c7ce3496",
   "metadata": {},
   "outputs": [],
   "source": [
    "(_, __), (X_test, y_test) = tf.keras.datasets.cifar10.load_data()\n",
    "y_test=to_categorical(y_test, num_classes=10)"
   ]
  },
  {
   "cell_type": "markdown",
   "id": "81ca6f88",
   "metadata": {},
   "source": [
    "### Pre block"
   ]
  },
  {
   "cell_type": "code",
   "execution_count": 7,
   "id": "66e3d92f",
   "metadata": {},
   "outputs": [
    {
     "name": "stdout",
     "output_type": "stream",
     "text": [
      "WARNING:tensorflow:No training configuration found in the save file, so the model was *not* compiled. Compile it manually.\n",
      "313/313 - 5s - loss: 0.7148 - acc: 0.7892\n",
      "custom_resnet\n",
      "model accuracy: 78.92%\n",
      "top 3 accuracy: 95.39999961853027\n",
      "top 5 accuracy: 98.89000058174133\n"
     ]
    }
   ],
   "source": [
    "model = tf.keras.models.load_model('./full_models/ablation/SE_pre.h5')\n",
    "score(model,X_test,y_test,top_n=[3,5])"
   ]
  },
  {
   "cell_type": "markdown",
   "id": "7ca1ff88",
   "metadata": {},
   "source": [
    "### Post block"
   ]
  },
  {
   "cell_type": "code",
   "execution_count": 8,
   "id": "abc0a77a",
   "metadata": {},
   "outputs": [
    {
     "name": "stdout",
     "output_type": "stream",
     "text": [
      "WARNING:tensorflow:No training configuration found in the save file, so the model was *not* compiled. Compile it manually.\n",
      "313/313 - 5s - loss: 0.6217 - acc: 0.7998\n",
      "custom_resnet\n",
      "model accuracy: 79.98%\n",
      "top 3 accuracy: 94.55000162124634\n",
      "top 5 accuracy: 98.0400025844574\n"
     ]
    }
   ],
   "source": [
    "model = tf.keras.models.load_model('./full_models/ablation/SE_post.h5')\n",
    "score(model,X_test,y_test,top_n=[3,5])"
   ]
  },
  {
   "cell_type": "markdown",
   "id": "4d7c8516",
   "metadata": {},
   "source": [
    "### Identity block"
   ]
  },
  {
   "cell_type": "code",
   "execution_count": 9,
   "id": "2a9651b0",
   "metadata": {},
   "outputs": [
    {
     "name": "stdout",
     "output_type": "stream",
     "text": [
      "WARNING:tensorflow:No training configuration found in the save file, so the model was *not* compiled. Compile it manually.\n",
      "313/313 - 5s - loss: 1.2254 - acc: 0.5622\n",
      "custom_resnet\n",
      "model accuracy: 56.22%\n",
      "top 3 accuracy: 84.52000021934509\n",
      "top 5 accuracy: 93.97000074386597\n"
     ]
    }
   ],
   "source": [
    "model = tf.keras.models.load_model('./full_models/ablation/SE_identity.h5')\n",
    "score(model,X_test,y_test,top_n=[3,5])"
   ]
  }
 ],
 "metadata": {
  "kernelspec": {
   "display_name": "Python 3 (ipykernel)",
   "language": "python",
   "name": "python3"
  },
  "language_info": {
   "codemirror_mode": {
    "name": "ipython",
    "version": 3
   },
   "file_extension": ".py",
   "mimetype": "text/x-python",
   "name": "python",
   "nbconvert_exporter": "python",
   "pygments_lexer": "ipython3",
   "version": "3.7.11"
  }
 },
 "nbformat": 4,
 "nbformat_minor": 5
}

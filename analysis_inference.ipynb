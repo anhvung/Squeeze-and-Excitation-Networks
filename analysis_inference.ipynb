{
 "cells": [
  {
   "cell_type": "code",
   "execution_count": 1,
   "id": "abf9f4be",
   "metadata": {},
   "outputs": [],
   "source": [
    "%matplotlib inline\n",
    "%load_ext autoreload\n",
    "%autoreload 2\n",
    "from utils.evaluate_model import score\n",
    "from utils.SE_resnet import SE_resnet18,SE_resnet34,SE_resnet50\n",
    "from utils.custom_resnet import custom_resnet18,custom_resnet34,custom_resnet50 \n",
    "import numpy as np\n",
    "import os\n",
    "from tensorflow.keras.models import load_model\n",
    "from utils.tiny_imageNet import labels_order\n",
    "from PIL import Image\n",
    "import pandas as pd\n",
    "import tensorflow as tf\n",
    "from tensorflow.keras.utils import to_categorical "
   ]
  },
  {
   "cell_type": "markdown",
   "id": "6a48de5b",
   "metadata": {},
   "source": [
    "## Loading tiny ImagetNet test data"
   ]
  },
  {
   "cell_type": "code",
   "execution_count": 2,
   "id": "c97293a4",
   "metadata": {},
   "outputs": [],
   "source": [
    "#Generate dataset\n",
    "image_list=[]\n",
    "label_list=[]\n",
    "label_dic=labels_order() #convert label str to int from 0 \n",
    "\n",
    "###### TEST DATA #######\n",
    "\n",
    "#getting the labels from the txt file\n",
    "df = pd.read_table('./data/tiny-imagenet-200/val/val_annotations.txt', header=None)\n",
    "test_labels={} \n",
    "for index, row in df.iterrows():\n",
    "    test_labels[str(row[0])]= row[1]\n",
    "test_directory = \"./data/tiny-imagenet-200/val/images\" \n",
    "\n",
    "test_image_list=[]\n",
    "test_label_list=[]\n",
    "\n",
    "for file in os.listdir(test_directory):\n",
    "    filename = os.fsdecode(file)  \n",
    "    if filename.endswith(\".JPEG\")  or filename.endswith(\".jpg\") or filename.endswith(\".png\"):\n",
    "        img=np.array(Image.open(os.path.join(test_directory,file)))\n",
    "        if(img.shape == (64, 64, 3)): #removing images without 3 channels\n",
    "            test_image_list.append(img)\n",
    "            test_label_list.append(label_dic[test_labels[filename]])\n",
    "            \n",
    "X_test=np.array(test_image_list)\n",
    "y_test=tf.keras.utils.to_categorical(np.array(test_label_list))"
   ]
  },
  {
   "cell_type": "code",
   "execution_count": 24,
   "id": "f2b4c7f6",
   "metadata": {},
   "outputs": [],
   "source": [
    "def test_time(path):\n",
    "    model = tf.keras.models.load_model(path)\n",
    "    # predict\n",
    "    start_time = time.time()\n",
    "    model.predict(X_test)\n",
    "    print(\"%s milliseconds per sample\" % (1000*(time.time() - start_time)/len(X_test)))\n",
    "    "
   ]
  },
  {
   "cell_type": "markdown",
   "id": "62139146",
   "metadata": {},
   "source": [
    "## Resnet 18"
   ]
  },
  {
   "cell_type": "code",
   "execution_count": 25,
   "id": "f8bad239",
   "metadata": {},
   "outputs": [
    {
     "name": "stdout",
     "output_type": "stream",
     "text": [
      "0.29236805739686 milliseconds per sample\n"
     ]
    }
   ],
   "source": [
    "import time\n",
    "test_time('./full_models/tinyImageNet/resnet_18_best.h5')"
   ]
  },
  {
   "cell_type": "markdown",
   "id": "51f81239",
   "metadata": {},
   "source": [
    "## SE-resnet 18"
   ]
  },
  {
   "cell_type": "code",
   "execution_count": 26,
   "id": "ad0f3c8f",
   "metadata": {},
   "outputs": [
    {
     "name": "stdout",
     "output_type": "stream",
     "text": [
      "WARNING:tensorflow:No training configuration found in the save file, so the model was *not* compiled. Compile it manually.\n",
      "0.31725127489417426 milliseconds per sample\n"
     ]
    }
   ],
   "source": [
    "test_time('./full_models/tinyImageNet/SE-resnet_18_best.h5')"
   ]
  },
  {
   "cell_type": "markdown",
   "id": "a6dcf0d3",
   "metadata": {},
   "source": [
    "## Resnet34"
   ]
  },
  {
   "cell_type": "code",
   "execution_count": 27,
   "id": "ead2fa82",
   "metadata": {},
   "outputs": [
    {
     "name": "stdout",
     "output_type": "stream",
     "text": [
      "0.47756499929870405 milliseconds per sample\n"
     ]
    }
   ],
   "source": [
    "test_time('./full_models/tinyImageNet/resnet_34_best.h5')"
   ]
  },
  {
   "cell_type": "markdown",
   "id": "6385e778",
   "metadata": {},
   "source": [
    "## SE-Resnet34"
   ]
  },
  {
   "cell_type": "code",
   "execution_count": 28,
   "id": "c91117a2",
   "metadata": {},
   "outputs": [
    {
     "name": "stdout",
     "output_type": "stream",
     "text": [
      "WARNING:tensorflow:No training configuration found in the save file, so the model was *not* compiled. Compile it manually.\n",
      "0.5059132641946716 milliseconds per sample\n"
     ]
    }
   ],
   "source": [
    "test_time('./full_models/tinyImageNet/SE-resnet_34_best.h5')"
   ]
  },
  {
   "cell_type": "markdown",
   "id": "3fe5bd84",
   "metadata": {},
   "source": [
    "## Resnet50"
   ]
  },
  {
   "cell_type": "code",
   "execution_count": 29,
   "id": "00bfd0f2",
   "metadata": {},
   "outputs": [
    {
     "name": "stdout",
     "output_type": "stream",
     "text": [
      "WARNING:tensorflow:No training configuration found in the save file, so the model was *not* compiled. Compile it manually.\n",
      "0.5701860584215579 milliseconds per sample\n"
     ]
    }
   ],
   "source": [
    "test_time('./full_models/tinyImageNet/resnet_50_best.h5')"
   ]
  },
  {
   "cell_type": "markdown",
   "id": "3abeff82",
   "metadata": {},
   "source": [
    "## SE-Resnet50"
   ]
  },
  {
   "cell_type": "code",
   "execution_count": 30,
   "id": "d98e4d98",
   "metadata": {},
   "outputs": [
    {
     "name": "stdout",
     "output_type": "stream",
     "text": [
      "WARNING:tensorflow:No training configuration found in the save file, so the model was *not* compiled. Compile it manually.\n",
      "0.6570185317170629 milliseconds per sample\n"
     ]
    }
   ],
   "source": [
    "test_time('./full_models/tinyImageNet/SE-resnet_50_best.h5')"
   ]
  }
 ],
 "metadata": {
  "kernelspec": {
   "display_name": "Python 3",
   "language": "python",
   "name": "python3"
  },
  "language_info": {
   "codemirror_mode": {
    "name": "ipython",
    "version": 3
   },
   "file_extension": ".py",
   "mimetype": "text/x-python",
   "name": "python",
   "nbconvert_exporter": "python",
   "pygments_lexer": "ipython3",
   "version": "3.6.9"
  }
 },
 "nbformat": 4,
 "nbformat_minor": 5
}
